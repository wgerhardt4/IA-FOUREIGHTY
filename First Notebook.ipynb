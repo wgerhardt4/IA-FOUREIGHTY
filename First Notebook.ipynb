{
 "cells": [
  {
   "cell_type": "code",
   "execution_count": 1,
   "metadata": {},
   "outputs": [
    {
     "name": "stdout",
     "output_type": "stream",
     "text": [
      "My first notebook\n"
     ]
    }
   ],
   "source": [
    "print('My first notebook')"
   ]
  },
  {
   "cell_type": "code",
   "execution_count": 3,
   "metadata": {},
   "outputs": [],
   "source": [
    "import xlrd\n",
    "book = xlrd.open_workbook(\"Diamonds.xls\")\n",
    "sheet = book.sheet_by_name(\"Diamonds\")"
   ]
  },
  {
   "cell_type": "code",
   "execution_count": 4,
   "metadata": {},
   "outputs": [
    {
     "name": "stdout",
     "output_type": "stream",
     "text": [
      "1.0 0.3 D 1302.0\n",
      "2.0 0.3 E 1510.0\n",
      "3.0 0.3 G 1510.0\n",
      "4.0 0.3 G 1260.0\n"
     ]
    }
   ],
   "source": [
    "for row_index in range(1,5): # read the first 4 rows, skip the first row\n",
    "    id_, weight, color,_,_,price = sheet.row_values(row_index)\n",
    "    print(id_,weight,color,price)"
   ]
  },
  {
   "cell_type": "code",
   "execution_count": null,
   "metadata": {},
   "outputs": [],
   "source": []
  }
 ],
 "metadata": {
  "kernelspec": {
   "display_name": "Python 3",
   "language": "python",
   "name": "python3"
  },
  "language_info": {
   "codemirror_mode": {
    "name": "ipython",
    "version": 3
   },
   "file_extension": ".py",
   "mimetype": "text/x-python",
   "name": "python",
   "nbconvert_exporter": "python",
   "pygments_lexer": "ipython3",
   "version": "3.6.5"
  }
 },
 "nbformat": 4,
 "nbformat_minor": 2
}
